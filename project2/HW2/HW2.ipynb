{
 "cells": [
  {
   "cell_type": "markdown",
   "metadata": {},
   "source": [
    "# HW2\n",
    "1. \n",
    "* Create a cloud of particles (N = $10^5$) distributed by a normal distribution (mean is zero and variance is one) in 3D Cartesian coordinates. \n",
    "* Assuming the initial particle velocities and accelerations are distributed by the same normal distribution and the total mass of the system is 20. \n",
    "* Run your N body simulation from t = 0 up to t = 10 with a constant time step ∆t = 0.01. \n",
    "* Use a soften length rsoft = 0.01. \n",
    "* Make snapshots of your particles projected on the x − y plane at t = 0, 2, 4, 6, 8, 10. \n",
    "* Make sure you have modified the particle size and the opacity to make it clear on the plots."
   ]
  },
  {
   "cell_type": "code",
   "execution_count": 1,
   "metadata": {},
   "outputs": [],
   "source": [
    "import numpy as np\n",
    "import matplotlib.pyplot as plt\n",
    "from HW2_particles import Particles\n",
    "from HW2_simulator import NBodySimulator\n",
    "from HW2_visualization import load_files, save_movie\n",
    "from numba import set_num_threads\n",
    "from numba import jit, prange, njit\n",
    "\"\"\"\n",
    "from nbody.particles import Particles\n",
    "from nbody.simulator import NBodySimulator\n",
    "\"\"\"\n",
    "\n",
    "# Set the number of threads to use for numba\n",
    "nthreads = 8\n",
    "set_num_threads(nthreads)"
   ]
  },
  {
   "cell_type": "code",
   "execution_count": 2,
   "metadata": {},
   "outputs": [],
   "source": [
    "time          = 0    # the starting  time\n",
    "num_particles = 1000  # number of particles\n",
    "np.random.seed(0)    # set the seed for every method\n",
    "\n",
    "# send N=num_particles to __init__ to initialize attributes\n",
    "# create an Instance called particles\n",
    "particles = Particles(N=num_particles)\n",
    "\n",
    "# assign the value to particle's (instance) attributes\n",
    "particles.masses = np.full((num_particles,1), 20/num_particles)\n",
    "particles.positions = np.random.randn(num_particles, 3)\n",
    "particles.velocities = np.random.randn(num_particles, 3)\n",
    "particles.accelerations = np.random.randn(num_particles, 3)\n",
    "particles.tags = np.linspace(1,num_particles,num_particles)\n",
    "\n",
    "# visualize the system\n",
    "#particles.draw(dim=2)\n",
    "#particles.draw(dim=2, size=0.5)\n",
    "#particles.draw(dim=3)"
   ]
  },
  {
   "cell_type": "code",
   "execution_count": 3,
   "metadata": {},
   "outputs": [
    {
     "name": "stdout",
     "output_type": "stream",
     "text": [
      "n= 0 Time:  0  dt:  0.01\n",
      "n= 10 Time:  0.09999999999999999  dt:  0.01\n",
      "n= 20 Time:  0.20000000000000004  dt:  0.01\n",
      "n= 30 Time:  0.3000000000000001  dt:  0.01\n",
      "n= 40 Time:  0.4000000000000002  dt:  0.01\n",
      "n= 50 Time:  0.5000000000000002  dt:  0.01\n",
      "n= 60 Time:  0.6000000000000003  dt:  0.01\n",
      "n= 70 Time:  0.7000000000000004  dt:  0.01\n",
      "n= 80 Time:  0.8000000000000005  dt:  0.01\n",
      "n= 90 Time:  0.9000000000000006  dt:  0.01\n",
      "n= 100 Time:  1.0000000000000007  dt:  0.01\n"
     ]
    },
    {
     "ename": "KeyboardInterrupt",
     "evalue": "",
     "output_type": "error",
     "traceback": [
      "\u001b[0;31m---------------------------------------------------------------------------\u001b[0m",
      "\u001b[0;31mKeyboardInterrupt\u001b[0m                         Traceback (most recent call last)",
      "Cell \u001b[0;32mIn[3], line 4\u001b[0m\n\u001b[1;32m      2\u001b[0m simulation \u001b[38;5;241m=\u001b[39m NBodySimulator(particles\u001b[38;5;241m=\u001b[39mparticles)\n\u001b[1;32m      3\u001b[0m simulation\u001b[38;5;241m.\u001b[39msetup(G\u001b[38;5;241m=\u001b[39m\u001b[38;5;241m1\u001b[39m,rsoft\u001b[38;5;241m=\u001b[39m\u001b[38;5;241m0.01\u001b[39m,method\u001b[38;5;241m=\u001b[39m\u001b[38;5;124m'\u001b[39m\u001b[38;5;124mRK4\u001b[39m\u001b[38;5;124m'\u001b[39m, io_freq\u001b[38;5;241m=\u001b[39m\u001b[38;5;241m10\u001b[39m, io_header\u001b[38;5;241m=\u001b[39m\u001b[38;5;124m'\u001b[39m\u001b[38;5;124mcluster_rk4\u001b[39m\u001b[38;5;124m'\u001b[39m)\n\u001b[0;32m----> 4\u001b[0m \u001b[43msimulation\u001b[49m\u001b[38;5;241;43m.\u001b[39;49m\u001b[43mevolve\u001b[49m\u001b[43m(\u001b[49m\u001b[43mdt\u001b[49m\u001b[38;5;241;43m=\u001b[39;49m\u001b[38;5;241;43m0.01\u001b[39;49m\u001b[43m,\u001b[49m\u001b[43m \u001b[49m\u001b[43mtmax\u001b[49m\u001b[38;5;241;43m=\u001b[39;49m\u001b[38;5;241;43m4\u001b[39;49m\u001b[43m)\u001b[49m\n",
      "File \u001b[0;32m~/coding/computationalPhysics-112/project2/HW2/HW2_simulator.py:116\u001b[0m, in \u001b[0;36mNBodySimulator.evolve\u001b[0;34m(self, dt, tmax)\u001b[0m\n\u001b[1;32m    114\u001b[0m     fn \u001b[38;5;241m=\u001b[39m \u001b[38;5;28mself\u001b[39m\u001b[38;5;241m.\u001b[39mio_header\u001b[38;5;241m+\u001b[39m\u001b[38;5;124m\"\u001b[39m\u001b[38;5;124m_\u001b[39m\u001b[38;5;124m\"\u001b[39m\u001b[38;5;241m+\u001b[39m\u001b[38;5;28mstr\u001b[39m(n)\u001b[38;5;241m.\u001b[39mzfill(\u001b[38;5;241m6\u001b[39m)\u001b[38;5;241m+\u001b[39m\u001b[38;5;124m\"\u001b[39m\u001b[38;5;124m.dat\u001b[39m\u001b[38;5;124m\"\u001b[39m\n\u001b[1;32m    115\u001b[0m     fn \u001b[38;5;241m=\u001b[39m io_folder\u001b[38;5;241m+\u001b[39m\u001b[38;5;124m\"\u001b[39m\u001b[38;5;124m/\u001b[39m\u001b[38;5;124m\"\u001b[39m\u001b[38;5;241m+\u001b[39mfn\n\u001b[0;32m--> 116\u001b[0m     \u001b[43mparticles\u001b[49m\u001b[38;5;241;43m.\u001b[39;49m\u001b[43moutput\u001b[49m\u001b[43m(\u001b[49m\u001b[43mfn\u001b[49m\u001b[43m)\u001b[49m    \u001b[38;5;66;03m# ouput the data by output function in particles.py\u001b[39;00m\n\u001b[1;32m    118\u001b[0m \u001b[38;5;66;03m# update the time\u001b[39;00m\n\u001b[1;32m    119\u001b[0m time \u001b[38;5;241m+\u001b[39m\u001b[38;5;241m=\u001b[39m dt\n",
      "File \u001b[0;32m~/coding/computationalPhysics-112/project2/HW2/HW2_particles.py:142\u001b[0m, in \u001b[0;36mParticles.output\u001b[0;34m(self, filename, time)\u001b[0m\n\u001b[1;32m    140\u001b[0m acc \u001b[38;5;241m=\u001b[39m \u001b[38;5;28mself\u001b[39m\u001b[38;5;241m.\u001b[39maccelerations\n\u001b[1;32m    141\u001b[0m tags \u001b[38;5;241m=\u001b[39m \u001b[38;5;28mself\u001b[39m\u001b[38;5;241m.\u001b[39mtags\n\u001b[0;32m--> 142\u001b[0m KE, PE \u001b[38;5;241m=\u001b[39m \u001b[38;5;28;43mself\u001b[39;49m\u001b[38;5;241;43m.\u001b[39;49m\u001b[43menergy\u001b[49m\u001b[43m(\u001b[49m\u001b[43mG\u001b[49m\u001b[38;5;241;43m=\u001b[39;49m\u001b[38;5;241;43m1\u001b[39;49m\u001b[43m,\u001b[49m\u001b[43m \u001b[49m\u001b[43mrsoft\u001b[49m\u001b[38;5;241;43m=\u001b[39;49m\u001b[38;5;241;43m0.1\u001b[39;49m\u001b[43m)\u001b[49m\n\u001b[1;32m    143\u001b[0m header \u001b[38;5;241m=\u001b[39m \u001b[38;5;124m\"\"\"\u001b[39m\n\u001b[1;32m    144\u001b[0m \u001b[38;5;124m        ----------------------------------------------------\u001b[39m\n\u001b[1;32m    145\u001b[0m \u001b[38;5;124m        Data from a 3D direct N-body simulation. \u001b[39m\n\u001b[0;32m   (...)\u001b[0m\n\u001b[1;32m    152\u001b[0m \u001b[38;5;124m        ----------------------------------------------------\u001b[39m\n\u001b[1;32m    153\u001b[0m \u001b[38;5;124m        \u001b[39m\u001b[38;5;124m\"\"\"\u001b[39m\n\u001b[1;32m    154\u001b[0m header \u001b[38;5;241m+\u001b[39m\u001b[38;5;241m=\u001b[39m \u001b[38;5;124m\"\u001b[39m\u001b[38;5;124mTime = \u001b[39m\u001b[38;5;132;01m{}\u001b[39;00m\u001b[38;5;130;01m\\n\u001b[39;00m\u001b[38;5;124m\"\u001b[39m\u001b[38;5;241m.\u001b[39mformat(time)\n",
      "File \u001b[0;32m~/coding/computationalPhysics-112/project2/HW2/HW2_particles.py:206\u001b[0m, in \u001b[0;36mParticles.energy\u001b[0;34m(self, G, rsoft)\u001b[0m\n\u001b[1;32m    204\u001b[0m         \u001b[38;5;28;01mif\u001b[39;00m (j\u001b[38;5;241m>\u001b[39mi): \n\u001b[1;32m    205\u001b[0m             rij \u001b[38;5;241m=\u001b[39m \u001b[38;5;28mself\u001b[39m\u001b[38;5;241m.\u001b[39mpositions[i,:] \u001b[38;5;241m-\u001b[39m \u001b[38;5;28mself\u001b[39m\u001b[38;5;241m.\u001b[39mpositions[j,:]\n\u001b[0;32m--> 206\u001b[0m             r \u001b[38;5;241m=\u001b[39m \u001b[43mnp\u001b[49m\u001b[38;5;241;43m.\u001b[39;49m\u001b[43msqrt\u001b[49m\u001b[43m(\u001b[49m\u001b[43mnp\u001b[49m\u001b[38;5;241;43m.\u001b[39;49m\u001b[43msum\u001b[49m\u001b[43m(\u001b[49m\u001b[43mrij\u001b[49m\u001b[38;5;241;43m*\u001b[39;49m\u001b[38;5;241;43m*\u001b[39;49m\u001b[38;5;241;43m2\u001b[39;49m\u001b[43m)\u001b[49m\u001b[43m \u001b[49m\u001b[38;5;241;43m+\u001b[39;49m\u001b[43m \u001b[49m\u001b[43mrsoft\u001b[49m\u001b[38;5;241;43m*\u001b[39;49m\u001b[38;5;241;43m*\u001b[39;49m\u001b[38;5;241;43m2\u001b[39;49m\u001b[43m)\u001b[49m\n\u001b[1;32m    207\u001b[0m             PE \u001b[38;5;241m+\u001b[39m\u001b[38;5;241m=\u001b[39m \u001b[38;5;241m-\u001b[39m G \u001b[38;5;241m*\u001b[39m \u001b[38;5;28mself\u001b[39m\u001b[38;5;241m.\u001b[39mmasses[i,\u001b[38;5;241m0\u001b[39m] \u001b[38;5;241m*\u001b[39m \u001b[38;5;28mself\u001b[39m\u001b[38;5;241m.\u001b[39mmasses[j,\u001b[38;5;241m0\u001b[39m] \u001b[38;5;241m/\u001b[39m r\n\u001b[1;32m    208\u001b[0m \u001b[38;5;28;01mreturn\u001b[39;00m KE, PE\n",
      "\u001b[0;31mKeyboardInterrupt\u001b[0m: "
     ]
    }
   ],
   "source": [
    "# start the simulation\n",
    "simulation = NBodySimulator(particles=particles)\n",
    "simulation.setup(G=1,rsoft=0.01,method='RK4', io_freq=10, io_header='cluster_rk4')\n",
    "simulation.evolve(dt=0.01, tmax=4)"
   ]
  },
  {
   "cell_type": "code",
   "execution_count": null,
   "metadata": {},
   "outputs": [],
   "source": [
    "# visualize the simulation: RK4\n",
    "fns = load_files('cluster_rk4')\n",
    "print(fns)\n",
    "# save the movie\n",
    "save_movie(fns, filename='HW2_RK4.mp4', fps=10, lengthscale=10)"
   ]
  },
  {
   "cell_type": "markdown",
   "metadata": {},
   "source": [
    "## 2. Leap-frog scheme"
   ]
  },
  {
   "cell_type": "code",
   "execution_count": null,
   "metadata": {},
   "outputs": [],
   "source": [
    "# Initialize the simulation\n",
    "time          = 0    # the starting  time\n",
    "num_particles = 1000  # number of particles\n",
    "np.random.seed(0)    # set the seed for every method\n",
    "\n",
    "# send N=num_particles to __init__ to initialize attributes\n",
    "# create an Instance called particles\n",
    "particles = Particles(N=num_particles)\n",
    "\n",
    "# assign the value to particle's (instance) attributes\n",
    "particles.masses = np.full((num_particles,1), 20/num_particles)\n",
    "particles.positions = np.random.randn(num_particles, 3)\n",
    "particles.velocities = np.random.randn(num_particles, 3)\n",
    "particles.accelerations = np.random.randn(num_particles, 3)\n",
    "particles.tags = np.linspace(1,num_particles,num_particles)\n",
    "\n",
    "# visualize the system\n",
    "#particles.draw(dim=2)\n",
    "#particles.draw(dim=2, size=0.5)\n",
    "#particles.draw(dim=3)"
   ]
  },
  {
   "cell_type": "code",
   "execution_count": null,
   "metadata": {},
   "outputs": [],
   "source": [
    "# start the simulation\n",
    "simulation = NBodySimulator(particles=particles)\n",
    "simulation.setup(G=1,rsoft=0.01, method='LF', io_freq=10, io_header='cluster_lf')\n",
    "simulation.evolve(dt=0.01, tmax=4)"
   ]
  },
  {
   "cell_type": "code",
   "execution_count": null,
   "metadata": {},
   "outputs": [],
   "source": [
    "# visualize the simulation: LF\n",
    "fns = load_files('cluster_lf')\n",
    "print(fns)\n",
    "# save the movie\n",
    "save_movie(fns, filename='HW2_LF.mp4', fps=10, lengthscale=10)"
   ]
  }
 ],
 "metadata": {
  "kernelspec": {
   "display_name": "comphys",
   "language": "python",
   "name": "python3"
  },
  "language_info": {
   "codemirror_mode": {
    "name": "ipython",
    "version": 3
   },
   "file_extension": ".py",
   "mimetype": "text/x-python",
   "name": "python",
   "nbconvert_exporter": "python",
   "pygments_lexer": "ipython3",
   "version": "3.11.7"
  }
 },
 "nbformat": 4,
 "nbformat_minor": 2
}
