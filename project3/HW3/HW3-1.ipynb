{
 "cells": [
  {
   "cell_type": "markdown",
   "metadata": {},
   "source": [
    "# Programming assignment 1\n",
    "Following the first problem in the written assignment, set $ρ_{22}$ = 1 and zeros in else- where, solve the system u."
   ]
  },
  {
   "cell_type": "code",
   "execution_count": 1,
   "metadata": {},
   "outputs": [],
   "source": [
    "import numpy as np\n",
    "import matplotlib.pyplot as plt\n",
    "from scipy.sparse import dia_array  # if dia_array is not able, use dia_matrix\n",
    "from scipy.sparse import dia_matrix\n",
    "from numba import jit, njit, prange, set_num_threads\n",
    "\n",
    "# Set the number of threads to use for numba\n",
    "nthreads = 8\n",
    "set_num_threads(nthreads)"
   ]
  },
  {
   "cell_type": "code",
   "execution_count": 2,
   "metadata": {},
   "outputs": [],
   "source": [
    "def generate_the_laplace_matrix_with_size(N=4):\n",
    "    \"\"\"\n",
    "    assume sqrt(N) is an integer.\n",
    "\n",
    "    N is the number of grid points in one direction.\n",
    "\n",
    "    \"\"\"\n",
    "    nsq = N*N\n",
    "    A   = np.zeros((nsq,nsq))\n",
    "\n",
    "    def init_1_4_1_matrix(N=4):\n",
    "        ex = np.ones(nsq)\n",
    "        data = np.array([-ex, 4 * ex, -ex])\n",
    "        offset = np.array([-1, 0, 1])\n",
    "        u = dia_matrix((data, offset), shape=(N, N)).toarray()\n",
    "        return u\n",
    "\n",
    "    def init_one_matrix(N):\n",
    "        return -np.identity(N)\n",
    "\n",
    "    def init_zero_matrix(N):\n",
    "        return np.zeros((N,N))\n",
    "    \n",
    "    d_matrix = init_1_4_1_matrix(N)\n",
    "    o_matrix = init_one_matrix(N)\n",
    "    z_matrix = init_zero_matrix(N)\n",
    "    \n",
    "    '''\n",
    "    for i in range(N):\n",
    "        for j in range(N):\n",
    "            if i == j:\n",
    "                submartix = init_1_4_1_matrix(N)\n",
    "            elif abs(i-j) == 1:\n",
    "                submartix = init_one_matrix(N)\n",
    "            else:\n",
    "                submartix = init_zero_matrix(N)\n",
    "            \n",
    "            for ii in range(N):\n",
    "                for jj in range(N):\n",
    "                    A[i*N+ii][j*N+jj] = submartix[ii][jj]\n",
    "    '''\n",
    "    A = init_matrix_kernel(N, A, d_matrix, o_matrix, z_matrix)\n",
    "    return A\n",
    "\n",
    "# use numba to speed up the matrix generation\n",
    "@njit(parallel=True)\n",
    "def init_matrix_kernel(N,A,d_matrix,o_matrix, z_matrix):\n",
    "    for i in prange(N):\n",
    "        for j in prange(N):\n",
    "            if (i==j):\n",
    "                submatrix = d_matrix\n",
    "            elif (abs(i-j)==1):\n",
    "                submatrix = o_matrix\n",
    "            else:\n",
    "                submatrix = z_matrix\n",
    "            \n",
    "            for i2 in range(N):\n",
    "                for j2 in range(N):\n",
    "                    ii = i2 + i*N\n",
    "                    jj = j2 + j*N\n",
    "                    A[ii,jj] = submatrix[i2,j2]   \n",
    "    return A\n",
    "\n",
    "# include boundary conditions\n",
    "def generate_the_rhs_vector_with_size(N=3):\n",
    "    b = np.zeros(N*N)\n",
    "    b[4] = 1\n",
    "    return b\n",
    "\n",
    "# convert the solution vector to the finite difference grids u[i,j]\n",
    "def convert_solution(x):\n",
    "    usize = np.sqrt(len(x))\n",
    "    u = x.reshape(int(usize),int(usize)).transpose()\n",
    "    return u"
   ]
  },
  {
   "cell_type": "code",
   "execution_count": 3,
   "metadata": {},
   "outputs": [
    {
     "name": "stdout",
     "output_type": "stream",
     "text": [
      "[[ 4. -1.  0. -1. -0. -0.  0.  0.  0.]\n",
      " [-1.  4. -1. -0. -1. -0.  0.  0.  0.]\n",
      " [ 0. -1.  4. -0. -0. -1.  0.  0.  0.]\n",
      " [-1. -0. -0.  4. -1.  0. -1. -0. -0.]\n",
      " [-0. -1. -0. -1.  4. -1. -0. -1. -0.]\n",
      " [-0. -0. -1.  0. -1.  4. -0. -0. -1.]\n",
      " [ 0.  0.  0. -1. -0. -0.  4. -1.  0.]\n",
      " [ 0.  0.  0. -0. -1. -0. -1.  4. -1.]\n",
      " [ 0.  0.  0. -0. -0. -1.  0. -1.  4.]]\n",
      "[0. 0. 0. 0. 1. 0. 0. 0. 0.]\n"
     ]
    }
   ],
   "source": [
    "# check the format of A & b\n",
    "N = 3\n",
    "A = generate_the_laplace_matrix_with_size(N)\n",
    "print(A)\n",
    "b = generate_the_rhs_vector_with_size(N)\n",
    "print(b)"
   ]
  },
  {
   "cell_type": "code",
   "execution_count": 4,
   "metadata": {},
   "outputs": [
    {
     "data": {
      "text/plain": [
       "<matplotlib.image.AxesImage at 0x15c728d50>"
      ]
     },
     "execution_count": 4,
     "metadata": {},
     "output_type": "execute_result"
    },
    {
     "data": {
      "image/png": "[encoded data removed]",
      "text/plain": [
       "<Figure size 640x480 with 1 Axes>"
      ]
     },
     "metadata": {},
     "output_type": "display_data"
    }
   ],
   "source": [
    "from scipy import linalg\n",
    "x = linalg.solve(A, b)\n",
    "u1 = convert_solution(x)\n",
    "plt.imshow(u1.T,origin=\"lower\")"
   ]
  }
 ],
 "metadata": {
  "kernelspec": {
   "display_name": "comphys",
   "language": "python",
   "name": "python3"
  },
  "language_info": {
   "codemirror_mode": {
    "name": "ipython",
    "version": 3
   },
   "file_extension": ".py",
   "mimetype": "text/x-python",
   "name": "python",
   "nbconvert_exporter": "python",
   "pygments_lexer": "ipython3",
   "version": "3.11.7"
  }
 },
 "nbformat": 4,
 "nbformat_minor": 2
}
